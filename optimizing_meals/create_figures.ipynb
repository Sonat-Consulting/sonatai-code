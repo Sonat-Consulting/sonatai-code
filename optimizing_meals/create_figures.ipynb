{
 "cells": [
  {
   "cell_type": "markdown",
   "metadata": {},
   "source": [
    "## Imports and settings"
   ]
  },
  {
   "cell_type": "code",
   "execution_count": 1,
   "metadata": {},
   "outputs": [],
   "source": [
    "import pandas as pd\n",
    "from pprint import pprint\n",
    "import os\n",
    "import numpy as np\n",
    "import math\n",
    "import matplotlib.pyplot as plt\n",
    "\n",
    "from optimizing_meals import optimize_mealplan, print_results\n",
    "from classes import Meal, Food"
   ]
  },
  {
   "cell_type": "code",
   "execution_count": 2,
   "metadata": {},
   "outputs": [],
   "source": [
    "pd.set_option(\"display.max_rows\", 64)\n",
    "pd.set_option(\"display.max_columns\", 64)\n",
    "pd.set_option('precision', 1)\n",
    "\n",
    "FIGSIZE = (9, 3)"
   ]
  },
  {
   "cell_type": "code",
   "execution_count": 3,
   "metadata": {},
   "outputs": [],
   "source": [
    "if not os.path.exists(\"figures\"):\n",
    "    os.makedirs(\"figures\")"
   ]
  },
  {
   "cell_type": "markdown",
   "metadata": {},
   "source": [
    "## Functions"
   ]
  },
  {
   "cell_type": "code",
   "execution_count": 4,
   "metadata": {},
   "outputs": [],
   "source": [
    "def plot_results(x, meals, results_data, filename=None):\n",
    "    \"\"\"Plot the results\"\"\"\n",
    "    COLORS = plt.rcParams['axes.prop_cycle'].by_key()['color']\n",
    "    \n",
    "    num_meals, num_days = len(x), len(x[0])\n",
    "    \n",
    "    \n",
    "    for day_num in range(num_days):\n",
    "        \n",
    "        # Get the quantities\n",
    "        x_day = [x[i][day_num] for i in range(num_meals)]\n",
    "        \n",
    "        # Prepare results\n",
    "        result = list((m, qnty) for (m, qnty) in zip(meals, x_day))\n",
    "        price = int(sum(meal.price * qnty for (meal, qnty) in result))\n",
    "        \n",
    "        meal_names = [meal.name for (meal, qnty) in result]\n",
    "        x_ticks = list(range(len(meal_names)))\n",
    "        \n",
    "        fig = plt.figure(figsize=FIGSIZE)\n",
    "        \n",
    "        # PLOT 1 - Foods and quantities\n",
    "        ax1 = plt.subplot(1, 3, 1)\n",
    "        ax1.set_title(f\"Day {day_num+1} - Price: {price} NOK\")\n",
    "        \n",
    "        quantities = [qnty for (meal, qnty) in result]\n",
    "        colors = [COLORS[2] if meal.discrete else COLORS[0] for (meal, qnty) in result]\n",
    "        \n",
    "        ax1.barh(x_ticks, quantities, color=colors, zorder=15, alpha=0.75)\n",
    "        \n",
    "        max_quant = int(math.ceil(max(quantities)))\n",
    "        ax1.set_xticks(list(range(0, max_quant+1)))\n",
    "        \n",
    "        ax1.set_yticks(x_ticks)\n",
    "        ax1.set_yticklabels(meal_names)\n",
    "        ax1.yaxis.set_tick_params(rotation=0)\n",
    "        ax1.grid(True, ls=\"--\", alpha=0.5, zorder=5)\n",
    "        ax1.set_xlabel(\"Quantities\")\n",
    "        \n",
    "        # PLOT 2 - Calories\n",
    "        ax2 = plt.subplot(1, 3, 2)\n",
    "        calories = [meal.kcal * qnty for (meal, qnty) in result]\n",
    "        ax2.set_title(f\"Total calories: {int(round((sum(calories))))} kcal\")\n",
    "        \n",
    "        ax2.barh(x_ticks, calories, color=colors, zorder=15, alpha=0.75)\n",
    "        ax2.set_yticklabels(['' for meal in meal_names])\n",
    "        ax2.yaxis.set_tick_params(rotation=90)\n",
    "        \n",
    "        ax2.grid(True, ls=\"--\", alpha=0.5, zorder=5)\n",
    "        ax2.set_xlabel(\"Calories\")\n",
    "        \n",
    "        # PLOT 3 - Protein\n",
    "        ax3 = plt.subplot(1, 3, 3)\n",
    "        protein = [meal.protein * qnty for (meal, qnty) in result]\n",
    "        ax3.set_title(f\"Total protein: {int(round((sum(protein))))} g\")\n",
    "        \n",
    "        ax3.barh(x_ticks, protein, color=colors, zorder=15, alpha=0.75)\n",
    "        ax3.set_yticklabels(['' for meal in meal_names])\n",
    "        ax3.yaxis.set_tick_params(rotation=90)\n",
    "        \n",
    "        ax3.grid(True, ls=\"--\", alpha=0.5, zorder=5)\n",
    "        ax3.set_xlabel(\"Protein\")\n",
    "        \n",
    "        plt.tight_layout()\n",
    "        \n",
    "        if filename:\n",
    "            plt.savefig(os.path.join(\"figures\", f\"{filename}.pdf\"))\n",
    "            plt.savefig(os.path.join(\"figures\", f\"{filename}.png\"), dpi=300)\n",
    "        # Only plot first day\n",
    "        break"
   ]
  },
  {
   "cell_type": "markdown",
   "metadata": {},
   "source": [
    "## Data"
   ]
  },
  {
   "cell_type": "code",
   "execution_count": 5,
   "metadata": {},
   "outputs": [],
   "source": [
    "from data import meals"
   ]
  },
  {
   "cell_type": "code",
   "execution_count": 6,
   "metadata": {},
   "outputs": [],
   "source": [
    "dietary_constraints = {\"kcal\": (1800, 1800), \"protein\": (100, None), \"fat\": (65 , None)}\n",
    "meals = list(meals.values())"
   ]
  },
  {
   "cell_type": "markdown",
   "metadata": {},
   "source": [
    "## Prin the meals to a markdown table"
   ]
  },
  {
   "cell_type": "code",
   "execution_count": 7,
   "metadata": {},
   "outputs": [
    {
     "name": "stdout",
     "output_type": "stream",
     "text": [
      "Name | Discrete | Grams per base meal | Description\n",
      "----- | ----- | ----- | -----\n",
      "mixed nuts | False | 10 | {Food(name='nøtti frutti', protein=13, fat=26, carbs=47, kcal=464, price_per_product=39.7, grams_per_product=350): 10}\n",
      "yogurt w/ muesli | True | 190 | {Food(name='yoghurt', protein=3.7, fat=3.1, carbs=10.5, kcal=84, price_per_product=17.0, grams_per_product=600): 150, Food(name='musli', protein=9.0, fat=4.8, carbs=63.0, kcal=351, price_per_product=23.1, grams_per_product=750): 40}\n",
      "chicken w/ sweet&sour | False | 100 | {Food(name='frossen kyllingfilet', protein=19.0, fat=1.8, carbs=0.3, kcal=94, price_per_product=260.0, grams_per_product=2500): 40.7, Food(name='coop sweet and sour', protein=0.6, fat=0.1, carbs=20, kcal=85, price_per_product=14.9, grams_per_product=500): 11.5, Food(name='jasmin ris', protein=2.7, fat=0.1, carbs=31.1, kcal=136, price_per_product=45.8, grams_per_product=1000): 47.8}\n",
      "hamburger | True | 120 | {Food(name='grovt brød', protein=11.0, fat=4.8, carbs=36.0, kcal=245, price_per_product=39.5, grams_per_product=750): 40, Food(name='burger', protein=15.0, fat=18.0, carbs=2.0, kcal=230, price_per_product=87.3, grams_per_product=800): 80}\n",
      "egg | True | 70 | {Food(name='egg', protein=13.0, fat=10.6, carbs=0.3, kcal=149, price_per_product=32.9, grams_per_product=690): 70}\n",
      "scoop protein shake | False | 175 | {Food(name='PF whey', protein=71.8, fat=8.1, carbs=7.9, kcal=377, price_per_product=599.0, grams_per_product=3000): 25, Food(name='lettmelk', protein=3.5, fat=0.5, carbs=4.5, kcal=37, price_per_product=16.4, grams_per_product=1000): 150}\n",
      "yogurt w/ ct.cheese | True | 250 | {Food(name='yoghurt', protein=3.7, fat=3.1, carbs=10.5, kcal=84, price_per_product=17.0, grams_per_product=600): 150, Food(name='cottage cheese', protein=13.0, fat=2.0, carbs=2.1, kcal=79, price_per_product=24.4, grams_per_product=400): 100}\n"
     ]
    }
   ],
   "source": [
    "print(' | '.join([\"Name\", \"Discrete\", \"Grams per base meal\", \"Description\"]))\n",
    "print(' | '.join([\"-----\"] * 4))\n",
    "\n",
    "for meal in meals:\n",
    "    \n",
    "    print(' | '.join([meal.name, str(meal.discrete), str(meal.grams), str(meal.foods)]))"
   ]
  },
  {
   "cell_type": "markdown",
   "metadata": {},
   "source": [
    "## Example - constraint on nutrition only"
   ]
  },
  {
   "cell_type": "code",
   "execution_count": 8,
   "metadata": {},
   "outputs": [],
   "source": [
    "dietary_constraints = {\"kcal\": (1800, 1800), \"protein\": (100, None), \"fat\": (60 , None)}"
   ]
  },
  {
   "cell_type": "code",
   "execution_count": 9,
   "metadata": {},
   "outputs": [
    {
     "name": "stdout",
     "output_type": "stream",
     "text": [
      "{'obj_func_value': -0.011908, 'wall_time': 0.08, 'iterations': 598, 'total_price': 89.3}\n"
     ]
    },
    {
     "data": {
      "image/png": "[encoded data removed]",
      "text/plain": [
       "<Figure size 648x216 with 3 Axes>"
      ]
     },
     "metadata": {
      "needs_background": "light"
     },
     "output_type": "display_data"
    }
   ],
   "source": [
    "params = {\"num_days\":1, \n",
    "          \"num_meals\":4,\n",
    "\n",
    "          \"weight_price\":-0.01,\n",
    "          \"weight_nutrients\":1,\n",
    "          \"weight_range\":0,\n",
    "          \"epsilon\": 0.1\n",
    "          }\n",
    "\n",
    "x, results_data = optimize_mealplan(meals=meals, \n",
    "                  meals_limits=None, \n",
    "                  dietary_constraints=dietary_constraints, \n",
    "                  params=params)\n",
    "\n",
    "print(results_data)\n",
    "plot_results(x, meals, results_data, \"single_day_constrained_nutrients\")"
   ]
  },
  {
   "cell_type": "markdown",
   "metadata": {},
   "source": [
    " ## Example - nutrient constraints and price constraint"
   ]
  },
  {
   "cell_type": "code",
   "execution_count": 10,
   "metadata": {},
   "outputs": [
    {
     "name": "stdout",
     "output_type": "stream",
     "text": [
      "{'obj_func_value': 0.006101, 'wall_time': 0.012, 'iterations': 6, 'total_price': 45.8}\n"
     ]
    },
    {
     "data": {
      "image/png": "[encoded data removed]",
      "text/plain": [
       "<Figure size 648x216 with 3 Axes>"
      ]
     },
     "metadata": {
      "needs_background": "light"
     },
     "output_type": "display_data"
    }
   ],
   "source": [
    "params = {\"num_days\":1, \n",
    "          \"num_meals\":4,\n",
    "\n",
    "          \"weight_price\":0.01,\n",
    "          \"weight_nutrients\":1,\n",
    "          \"weight_range\":0,\n",
    "          \"epsilon\": 0.1\n",
    "          }\n",
    "\n",
    "x, results_data = optimize_mealplan(meals=meals, \n",
    "                  meals_limits=None, \n",
    "                  dietary_constraints=dietary_constraints, \n",
    "                  params=params)\n",
    "\n",
    "print(results_data)\n",
    "plot_results(x, meals, results_data, \"single_day_constrained_nutrients_price\")"
   ]
  },
  {
   "cell_type": "markdown",
   "metadata": {},
   "source": [
    "## Example - nutrient constraints and price constraint and range constraint"
   ]
  },
  {
   "cell_type": "code",
   "execution_count": 11,
   "metadata": {},
   "outputs": [
    {
     "name": "stdout",
     "output_type": "stream",
     "text": [
      "{'obj_func_value': 0.182317, 'wall_time': 0.19, 'iterations': 2064, 'total_price': 51.3}\n"
     ]
    },
    {
     "data": {
      "image/png": "[encoded data removed]",
      "text/plain": [
       "<Figure size 648x216 with 3 Axes>"
      ]
     },
     "metadata": {
      "needs_background": "light"
     },
     "output_type": "display_data"
    }
   ],
   "source": [
    "params = {\"num_days\":1, \n",
    "          \"num_meals\":4,\n",
    "\n",
    "          \"weight_price\":0.1,\n",
    "          \"weight_nutrients\":2.0,\n",
    "          \"weight_range\":0.1,\n",
    "          \"epsilon\": 0.1\n",
    "          }\n",
    "\n",
    "x, results_data = optimize_mealplan(meals=meals, \n",
    "                  meals_limits=None, \n",
    "                  dietary_constraints=dietary_constraints, \n",
    "                  params=params)\n",
    "\n",
    "print(results_data)\n",
    "plot_results(x, meals, results_data, \"single_day_constrained_nutrients_price_range\")"
   ]
  },
  {
   "cell_type": "markdown",
   "metadata": {},
   "source": [
    "## Example - serveral days"
   ]
  },
  {
   "cell_type": "code",
   "execution_count": 12,
   "metadata": {},
   "outputs": [],
   "source": [
    "num_days = 8\n",
    "\n",
    "params = {\"num_days\": num_days, \n",
    "          \"num_meals\": 4,\n",
    "\n",
    "          \"weight_price\": 0.1,\n",
    "          \"weight_nutrients\": 2.0,\n",
    "          \"weight_range\": 0.1,\n",
    "          \"epsilon\": 0.001,\n",
    "          \"time_limit_secs\": 60\n",
    "          }\n",
    "\n",
    "meals_limits = [(None, i+2) for i in range(len(meals))]"
   ]
  },
  {
   "cell_type": "code",
   "execution_count": 13,
   "metadata": {},
   "outputs": [],
   "source": [
    "# Running the cell block once gives: RuntimeError: Infeasible problem.\n",
    "# Running it again works. This is strange.\n",
    "\n",
    "x, results_data = optimize_mealplan(meals=meals, \n",
    "                  meals_limits=meals_limits, \n",
    "                  dietary_constraints=dietary_constraints, \n",
    "                  params=params)"
   ]
  },
  {
   "cell_type": "code",
   "execution_count": 14,
   "metadata": {},
   "outputs": [
    {
     "data": {
      "text/plain": [
       "{'obj_func_value': 0.210535,\n",
       " 'wall_time': 60.558,\n",
       " 'iterations': 569552,\n",
       " 'total_price': 590.2}"
      ]
     },
     "execution_count": 14,
     "metadata": {},
     "output_type": "execute_result"
    }
   ],
   "source": [
    "results_data"
   ]
  },
  {
   "cell_type": "code",
   "execution_count": 15,
   "metadata": {},
   "outputs": [],
   "source": [
    "def get_kcals(x, meals):\n",
    "    \"\"\"Get kcals and protein\"\"\"\n",
    "    num_meals, num_days = len(x), len(x[0])\n",
    "    \n",
    "    for day_num in range(num_days):\n",
    "        \n",
    "        # Get the quantities\n",
    "        x_day = [x[i][day_num] for i in range(num_meals)]\n",
    "        result = list((m, qnty) for (m, qnty) in zip(meals, x_day))\n",
    "        calories = [meal.kcal * qnty for (meal, qnty) in result]\n",
    "        yield int(round(sum(calories)))"
   ]
  },
  {
   "cell_type": "code",
   "execution_count": 16,
   "metadata": {},
   "outputs": [
    {
     "data": {
      "text/plain": [
       "[Meal(name='mixed nuts', foods={Food(name='nøtti frutti', protein=13, fat=26, carbs=47, kcal=464, price_per_product=39.7, grams_per_product=350): 10}, discrete=False, type=None),\n",
       " Meal(name='yogurt w/ muesli', foods={Food(name='yoghurt', protein=3.7, fat=3.1, carbs=10.5, kcal=84, price_per_product=17.0, grams_per_product=600): 150, Food(name='musli', protein=9.0, fat=4.8, carbs=63.0, kcal=351, price_per_product=23.1, grams_per_product=750): 40}, discrete=True, type=None),\n",
       " Meal(name='chicken w/ sweet&sour', foods={Food(name='frossen kyllingfilet', protein=19.0, fat=1.8, carbs=0.3, kcal=94, price_per_product=260.0, grams_per_product=2500): 40.7, Food(name='coop sweet and sour', protein=0.6, fat=0.1, carbs=20, kcal=85, price_per_product=14.9, grams_per_product=500): 11.5, Food(name='jasmin ris', protein=2.7, fat=0.1, carbs=31.1, kcal=136, price_per_product=45.8, grams_per_product=1000): 47.8}, discrete=False, type=None),\n",
       " Meal(name='hamburger', foods={Food(name='grovt brød', protein=11.0, fat=4.8, carbs=36.0, kcal=245, price_per_product=39.5, grams_per_product=750): 40, Food(name='burger', protein=15.0, fat=18.0, carbs=2.0, kcal=230, price_per_product=87.3, grams_per_product=800): 80}, discrete=True, type=None),\n",
       " Meal(name='egg', foods={Food(name='egg', protein=13.0, fat=10.6, carbs=0.3, kcal=149, price_per_product=32.9, grams_per_product=690): 70}, discrete=True, type=None),\n",
       " Meal(name='scoop protein shake', foods={Food(name='PF whey', protein=71.8, fat=8.1, carbs=7.9, kcal=377, price_per_product=599.0, grams_per_product=3000): 25, Food(name='lettmelk', protein=3.5, fat=0.5, carbs=4.5, kcal=37, price_per_product=16.4, grams_per_product=1000): 150}, discrete=False, type=None),\n",
       " Meal(name='yogurt w/ ct.cheese', foods={Food(name='yoghurt', protein=3.7, fat=3.1, carbs=10.5, kcal=84, price_per_product=17.0, grams_per_product=600): 150, Food(name='cottage cheese', protein=13.0, fat=2.0, carbs=2.1, kcal=79, price_per_product=24.4, grams_per_product=400): 100}, discrete=True, type=None)]"
      ]
     },
     "execution_count": 16,
     "metadata": {},
     "output_type": "execute_result"
    }
   ],
   "source": [
    "meals"
   ]
  },
  {
   "cell_type": "code",
   "execution_count": 17,
   "metadata": {},
   "outputs": [
    {
     "data": {
      "image/png": "[encoded data removed]",
      "text/plain": [
       "<Figure size 864x360 with 1 Axes>"
      ]
     },
     "metadata": {
      "needs_background": "light"
     },
     "output_type": "display_data"
    }
   ],
   "source": [
    "# Get calories for each day\n",
    "kcals = list(get_kcals(x, meals))\n",
    "\n",
    "# Convert results to array for vectorized where\n",
    "x = np.array(x)\n",
    "\n",
    "plt.figure(figsize=(12, 5))\n",
    "\n",
    "plt.title(\"Meals and days (meal $i$ used at most $i+1$ times)\")\n",
    "\n",
    "# Paired, \n",
    "x_plot = np.sqrt(x)\n",
    "plt.imshow(x_plot, alpha=1, cmap=plt.get_cmap(\"BuGn\"),\n",
    "           vmin=0, vmax=np.max(x_plot) + 1)\n",
    "\n",
    "days_ticks = list(range(num_days))\n",
    "plt.xticks(days_ticks, \n",
    "           [f\"Day {i+1} ({c} kcal)\" for i, c in \n",
    "            zip(days_ticks, kcals)], \n",
    "           rotation=90)\n",
    "\n",
    "meals_ticks = list(range(len(meals)))\n",
    "plt.yticks(meals_ticks, \n",
    "           [f\"Meal {i+1} ({m.name})\" for i, m in zip(meals_ticks, meals)])\n",
    "\n",
    "for (j, i), label in np.ndenumerate(x):\n",
    "    if label <= 0:\n",
    "        continue\n",
    "    label = np.round(label, 1)\n",
    "    if label % 1 == 0:\n",
    "        label = int(label)\n",
    "        \n",
    "    plt.text(i, j, label, ha='center',va='center')\n",
    "\n",
    "plt.tight_layout()\n",
    "filename = \"many_days_w_constraints\"\n",
    "plt.savefig(os.path.join(\"figures\", f\"{filename}.pdf\"))\n",
    "plt.savefig(os.path.join(\"figures\", f\"{filename}.png\"), dpi=300)\n",
    "plt.show()"
   ]
  },
  {
   "cell_type": "code",
   "execution_count": 18,
   "metadata": {},
   "outputs": [
    {
     "name": "stdout",
     "output_type": "stream",
     "text": [
      "# Meal plan\n",
      "\n",
      "## Day 1 (price: 61 NOK)\n",
      "\n",
      "### Meals\n",
      "\n",
      "- 2 x Meal(name='yogurt w/ muesli', grams=190, foods={150g yoghurt, 40g musli})\n",
      "- 3.1 x Meal(name='scoop protein shake', grams=175, foods={25g PF whey, 150g lettmelk})\n",
      "- 1 x Meal(name='hamburger', grams=120, foods={40g grovt brød, 80g burger})\n",
      "- 5 x Meal(name='egg', grams=70, foods={70g egg})\n",
      "\n",
      "### Statistics\n",
      "\n",
      "- Total kcal: 1800 [533, 464, 282, 522]\n",
      "- Total protein: 152 [18, 72, 16, 46]\n",
      "- Total fat: 75 [13, 9, 16, 37]\n",
      "- Total carbs: 126 [82, 27, 16, 1]\n",
      "\n",
      "## Day 2 (price: 70 NOK)\n",
      "\n",
      "### Meals\n",
      "\n",
      "- 10.5 x Meal(name='mixed nuts', grams=10, foods={10g nøtti frutti})\n",
      "- 2 x Meal(name='yogurt w/ ct.cheese', grams=250, foods={150g yoghurt, 100g cottage cheese})\n",
      "- 3.2 x Meal(name='scoop protein shake', grams=175, foods={25g PF whey, 150g lettmelk})\n",
      "- 4 x Meal(name='egg', grams=70, foods={70g egg})\n",
      "\n",
      "### Statistics\n",
      "\n",
      "- Total kcal: 1800 [486, 410, 486, 417]\n",
      "- Total protein: 162 [14, 37, 75, 36]\n",
      "- Total fat: 79 [27, 13, 9, 30]\n",
      "- Total carbs: 114 [49, 36, 28, 1]\n",
      "\n",
      "## Day 3 (price: 81 NOK)\n",
      "\n",
      "### Meals\n",
      "\n",
      "- 4.2 x Meal(name='chicken w/ sweet&sour', grams=100, foods={40.7g frossen kyllingfilet, 11.5g coop sweet and sour, 47.8g jasmin ris})\n",
      "- 3.5 x Meal(name='scoop protein shake', grams=175, foods={25g PF whey, 150g lettmelk})\n",
      "- 1 x Meal(name='hamburger', grams=120, foods={40g grovt brød, 80g burger})\n",
      "- 5 x Meal(name='egg', grams=70, foods={70g egg})\n",
      "\n",
      "### Statistics\n",
      "\n",
      "- Total kcal: 1800 [475, 522, 282, 522]\n",
      "- Total protein: 181 [38, 81, 16, 46]\n",
      "- Total fat: 66 [3, 10, 16, 37]\n",
      "- Total carbs: 120 [73, 30, 16, 1]\n",
      "\n",
      "## Day 4 (price: 84 NOK)\n",
      "\n",
      "### Meals\n",
      "\n",
      "- 3.1 x Meal(name='chicken w/ sweet&sour', grams=100, foods={40.7g frossen kyllingfilet, 11.5g coop sweet and sour, 47.8g jasmin ris})\n",
      "- 2 x Meal(name='yogurt w/ ct.cheese', grams=250, foods={150g yoghurt, 100g cottage cheese})\n",
      "- 3.5 x Meal(name='scoop protein shake', grams=175, foods={25g PF whey, 150g lettmelk})\n",
      "- 5 x Meal(name='egg', grams=70, foods={70g egg})\n",
      "\n",
      "### Statistics\n",
      "\n",
      "- Total kcal: 1800 [347, 410, 522, 522]\n",
      "- Total protein: 191 [28, 37, 81, 46]\n",
      "- Total fat: 62 [2, 13, 10, 37]\n",
      "- Total carbs: 120 [53, 36, 30, 1]\n",
      "\n",
      "## Day 5 (price: 67 NOK)\n",
      "\n",
      "### Meals\n",
      "\n",
      "- 2 x Meal(name='yogurt w/ muesli', grams=190, foods={150g yoghurt, 40g musli})\n",
      "- 2 x Meal(name='hamburger', grams=120, foods={40g grovt brød, 80g burger})\n",
      "- 3.3 x Meal(name='scoop protein shake', grams=175, foods={25g PF whey, 150g lettmelk})\n",
      "- 1 x Meal(name='yogurt w/ ct.cheese', grams=250, foods={150g yoghurt, 100g cottage cheese})\n",
      "\n",
      "### Statistics\n",
      "\n",
      "- Total kcal: 1800 [533, 564, 498, 205]\n",
      "- Total protein: 147 [18, 33, 77, 19]\n",
      "- Total fat: 62 [13, 33, 9, 7]\n",
      "- Total carbs: 161 [82, 32, 29, 18]\n",
      "\n",
      "## Day 6 (price: 81 NOK)\n",
      "\n",
      "### Meals\n",
      "\n",
      "- 4.2 x Meal(name='chicken w/ sweet&sour', grams=100, foods={40.7g frossen kyllingfilet, 11.5g coop sweet and sour, 47.8g jasmin ris})\n",
      "- 3.5 x Meal(name='scoop protein shake', grams=175, foods={25g PF whey, 150g lettmelk})\n",
      "- 1 x Meal(name='hamburger', grams=120, foods={40g grovt brød, 80g burger})\n",
      "- 5 x Meal(name='egg', grams=70, foods={70g egg})\n",
      "\n",
      "### Statistics\n",
      "\n",
      "- Total kcal: 1800 [475, 522, 282, 522]\n",
      "- Total protein: 181 [38, 81, 16, 46]\n",
      "- Total fat: 66 [3, 10, 16, 37]\n",
      "- Total carbs: 120 [73, 30, 16, 1]\n",
      "\n",
      "## Day 7 (price: 75 NOK)\n",
      "\n",
      "### Meals\n",
      "\n",
      "- 4.3 x Meal(name='chicken w/ sweet&sour', grams=100, foods={40.7g frossen kyllingfilet, 11.5g coop sweet and sour, 47.8g jasmin ris})\n",
      "- 10.5 x Meal(name='mixed nuts', grams=10, foods={10g nøtti frutti})\n",
      "- 2 x Meal(name='yogurt w/ ct.cheese', grams=250, foods={150g yoghurt, 100g cottage cheese})\n",
      "- 4 x Meal(name='egg', grams=70, foods={70g egg})\n",
      "\n",
      "### Statistics\n",
      "\n",
      "- Total kcal: 1800 [486, 486, 410, 417]\n",
      "- Total protein: 126 [39, 14, 37, 36]\n",
      "- Total fat: 74 [3, 27, 13, 30]\n",
      "- Total carbs: 160 [74, 49, 36, 1]\n",
      "\n",
      "## Day 8 (price: 67 NOK)\n",
      "\n",
      "### Meals\n",
      "\n",
      "- 2 x Meal(name='yogurt w/ muesli', grams=190, foods={150g yoghurt, 40g musli})\n",
      "- 2 x Meal(name='hamburger', grams=120, foods={40g grovt brød, 80g burger})\n",
      "- 3.3 x Meal(name='scoop protein shake', grams=175, foods={25g PF whey, 150g lettmelk})\n",
      "- 1 x Meal(name='yogurt w/ ct.cheese', grams=250, foods={150g yoghurt, 100g cottage cheese})\n",
      "\n",
      "### Statistics\n",
      "\n",
      "- Total kcal: 1800 [533, 564, 498, 205]\n",
      "- Total protein: 147 [18, 33, 77, 19]\n",
      "- Total fat: 62 [13, 33, 9, 7]\n",
      "- Total carbs: 161 [82, 32, 29, 18]\n"
     ]
    }
   ],
   "source": [
    "print_results(x, meals, results_data)"
   ]
  }
 ],
 "metadata": {
  "kernelspec": {
   "display_name": "Python 3",
   "language": "python",
   "name": "python3"
  },
  "language_info": {
   "codemirror_mode": {
    "name": "ipython",
    "version": 3
   },
   "file_extension": ".py",
   "mimetype": "text/x-python",
   "name": "python",
   "nbconvert_exporter": "python",
   "pygments_lexer": "ipython3",
   "version": "3.7.3"
  }
 },
 "nbformat": 4,
 "nbformat_minor": 2
}
